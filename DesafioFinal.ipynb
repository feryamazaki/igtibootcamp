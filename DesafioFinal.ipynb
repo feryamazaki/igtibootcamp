{
  "nbformat": 4,
  "nbformat_minor": 0,
  "metadata": {
    "colab": {
      "name": "DesafioFinal.ipynb",
      "provenance": [],
      "authorship_tag": "ABX9TyPhv5txFC6FmiYeY92VpBdK",
      "include_colab_link": true
    },
    "kernelspec": {
      "name": "python3",
      "display_name": "Python 3"
    },
    "language_info": {
      "name": "python"
    }
  },
  "cells": [
    {
      "cell_type": "markdown",
      "metadata": {
        "id": "view-in-github",
        "colab_type": "text"
      },
      "source": [
        "<a href=\"https://colab.research.google.com/github/feryamazaki/igtibootcamp/blob/main/DesafioFinal.ipynb\" target=\"_parent\"><img src=\"https://colab.research.google.com/assets/colab-badge.svg\" alt=\"Open In Colab\"/></a>"
      ]
    },
    {
      "cell_type": "code",
      "metadata": {
        "id": "9RIqkdbvlrYT"
      },
      "source": [
        "#Importando as bibliotecas\n",
        "import numpy as np\n",
        "import pandas as pd"
      ],
      "execution_count": 1,
      "outputs": []
    },
    {
      "cell_type": "code",
      "metadata": {
        "id": "JNitrf0TogXU"
      },
      "source": [
        "?pd.read_csv()"
      ],
      "execution_count": 7,
      "outputs": []
    },
    {
      "cell_type": "code",
      "metadata": {
        "id": "J1RY0Gf2lzG4"
      },
      "source": [
        "#Carregando o dataset\n",
        "df = pd.read_csv(\"/content/pima-indians-diabetes.csv\", header=0)\n",
        "\n",
        "\n"
      ],
      "execution_count": 52,
      "outputs": []
    },
    {
      "cell_type": "code",
      "metadata": {
        "colab": {
          "base_uri": "https://localhost:8080/",
          "height": 204
        },
        "id": "OhACkuWmm_81",
        "outputId": "6dd3775d-4d03-4b3e-8d85-71f07068ffb1"
      },
      "source": [
        "df.head()"
      ],
      "execution_count": 53,
      "outputs": [
        {
          "output_type": "execute_result",
          "data": {
            "text/html": [
              "<div>\n",
              "<style scoped>\n",
              "    .dataframe tbody tr th:only-of-type {\n",
              "        vertical-align: middle;\n",
              "    }\n",
              "\n",
              "    .dataframe tbody tr th {\n",
              "        vertical-align: top;\n",
              "    }\n",
              "\n",
              "    .dataframe thead th {\n",
              "        text-align: right;\n",
              "    }\n",
              "</style>\n",
              "<table border=\"1\" class=\"dataframe\">\n",
              "  <thead>\n",
              "    <tr style=\"text-align: right;\">\n",
              "      <th></th>\n",
              "      <th>n_grav</th>\n",
              "      <th>c_glic</th>\n",
              "      <th>p_dias</th>\n",
              "      <th>exp_tric</th>\n",
              "      <th>insul</th>\n",
              "      <th>imc</th>\n",
              "      <th>hist_fam</th>\n",
              "      <th>idade</th>\n",
              "      <th>classificacao</th>\n",
              "    </tr>\n",
              "  </thead>\n",
              "  <tbody>\n",
              "    <tr>\n",
              "      <th>0</th>\n",
              "      <td>6</td>\n",
              "      <td>148</td>\n",
              "      <td>72</td>\n",
              "      <td>35</td>\n",
              "      <td>0</td>\n",
              "      <td>33.6</td>\n",
              "      <td>0.627</td>\n",
              "      <td>50</td>\n",
              "      <td>1</td>\n",
              "    </tr>\n",
              "    <tr>\n",
              "      <th>1</th>\n",
              "      <td>1</td>\n",
              "      <td>85</td>\n",
              "      <td>66</td>\n",
              "      <td>29</td>\n",
              "      <td>0</td>\n",
              "      <td>26.6</td>\n",
              "      <td>0.351</td>\n",
              "      <td>31</td>\n",
              "      <td>0</td>\n",
              "    </tr>\n",
              "    <tr>\n",
              "      <th>2</th>\n",
              "      <td>8</td>\n",
              "      <td>183</td>\n",
              "      <td>64</td>\n",
              "      <td>0</td>\n",
              "      <td>0</td>\n",
              "      <td>23.3</td>\n",
              "      <td>0.672</td>\n",
              "      <td>32</td>\n",
              "      <td>1</td>\n",
              "    </tr>\n",
              "    <tr>\n",
              "      <th>3</th>\n",
              "      <td>1</td>\n",
              "      <td>89</td>\n",
              "      <td>66</td>\n",
              "      <td>23</td>\n",
              "      <td>94</td>\n",
              "      <td>28.1</td>\n",
              "      <td>0.167</td>\n",
              "      <td>21</td>\n",
              "      <td>0</td>\n",
              "    </tr>\n",
              "    <tr>\n",
              "      <th>4</th>\n",
              "      <td>0</td>\n",
              "      <td>137</td>\n",
              "      <td>40</td>\n",
              "      <td>35</td>\n",
              "      <td>168</td>\n",
              "      <td>43.1</td>\n",
              "      <td>2.288</td>\n",
              "      <td>33</td>\n",
              "      <td>1</td>\n",
              "    </tr>\n",
              "  </tbody>\n",
              "</table>\n",
              "</div>"
            ],
            "text/plain": [
              "   n_grav  c_glic  p_dias  exp_tric  ...   imc  hist_fam  idade  classificacao\n",
              "0       6     148      72        35  ...  33.6     0.627     50              1\n",
              "1       1      85      66        29  ...  26.6     0.351     31              0\n",
              "2       8     183      64         0  ...  23.3     0.672     32              1\n",
              "3       1      89      66        23  ...  28.1     0.167     21              0\n",
              "4       0     137      40        35  ...  43.1     2.288     33              1\n",
              "\n",
              "[5 rows x 9 columns]"
            ]
          },
          "metadata": {
            "tags": []
          },
          "execution_count": 53
        }
      ]
    },
    {
      "cell_type": "code",
      "metadata": {
        "colab": {
          "base_uri": "https://localhost:8080/"
        },
        "id": "1-rTuYlcn_Jj",
        "outputId": "2c18337b-c9fb-4821-c1ec-93b67755ac54"
      },
      "source": [
        "df.info()"
      ],
      "execution_count": 54,
      "outputs": [
        {
          "output_type": "stream",
          "text": [
            "<class 'pandas.core.frame.DataFrame'>\n",
            "RangeIndex: 768 entries, 0 to 767\n",
            "Data columns (total 9 columns):\n",
            " #   Column         Non-Null Count  Dtype  \n",
            "---  ------         --------------  -----  \n",
            " 0   n_grav         768 non-null    int64  \n",
            " 1   c_glic         768 non-null    int64  \n",
            " 2   p_dias         768 non-null    int64  \n",
            " 3   exp_tric       768 non-null    int64  \n",
            " 4   insul          768 non-null    int64  \n",
            " 5   imc            768 non-null    float64\n",
            " 6   hist_fam       768 non-null    float64\n",
            " 7   idade          768 non-null    int64  \n",
            " 8   classificacao  768 non-null    int64  \n",
            "dtypes: float64(2), int64(7)\n",
            "memory usage: 54.1 KB\n"
          ],
          "name": "stdout"
        }
      ]
    },
    {
      "cell_type": "code",
      "metadata": {
        "colab": {
          "base_uri": "https://localhost:8080/"
        },
        "id": "ExHD5iwCoXQk",
        "outputId": "4dbf7dcd-94b1-4ddb-c295-8a40fc28d810"
      },
      "source": [
        "#Qual é a idade (coluna 7) média dos pacientes que são diabéticos (coluna 8=1)?\n",
        "df.query('classificacao==1')['idade'].mean()"
      ],
      "execution_count": 59,
      "outputs": [
        {
          "output_type": "execute_result",
          "data": {
            "text/plain": [
              "37.06716417910448"
            ]
          },
          "metadata": {
            "tags": []
          },
          "execution_count": 59
        }
      ]
    },
    {
      "cell_type": "code",
      "metadata": {
        "colab": {
          "base_uri": "https://localhost:8080/"
        },
        "id": "8UNvHFA1u7Ob",
        "outputId": "5b48673d-7483-480b-f013-5ba5dd5b2720"
      },
      "source": [
        "#Dentre os pacientes que NÃO tiveram diabetes (coluna 8 =0), qual é o número máximo de gestações (coluna 0) existentes?\n",
        "df.query('classificacao==0')['n_grav'].max()\n"
      ],
      "execution_count": 60,
      "outputs": [
        {
          "output_type": "execute_result",
          "data": {
            "text/plain": [
              "13"
            ]
          },
          "metadata": {
            "tags": []
          },
          "execution_count": 60
        }
      ]
    },
    {
      "cell_type": "code",
      "metadata": {
        "colab": {
          "base_uri": "https://localhost:8080/"
        },
        "id": "Lip2MwKdvPcL",
        "outputId": "e3685783-d95d-4ffb-f3c9-0dc54fedec53"
      },
      "source": [
        "#Qual é a afirmação CORRETA sobre o valor 3,0 para a característica número de gestações (coluna 0)?\n",
        "df['n_grav'].median()"
      ],
      "execution_count": 65,
      "outputs": [
        {
          "output_type": "execute_result",
          "data": {
            "text/plain": [
              "3.0"
            ]
          },
          "metadata": {
            "tags": []
          },
          "execution_count": 65
        }
      ]
    },
    {
      "cell_type": "code",
      "metadata": {
        "colab": {
          "base_uri": "https://localhost:8080/"
        },
        "id": "BQZzLd0fwNl0",
        "outputId": "b92c811d-97b3-474c-e164-30675f1521d7"
      },
      "source": [
        "#Antes de normalizar, qual é o valor da mediana presente na coluna concentração de glicose (coluna 1)?\n",
        "df['c_glic'].median()"
      ],
      "execution_count": 66,
      "outputs": [
        {
          "output_type": "execute_result",
          "data": {
            "text/plain": [
              "117.0"
            ]
          },
          "metadata": {
            "tags": []
          },
          "execution_count": 66
        }
      ]
    }
  ]
}