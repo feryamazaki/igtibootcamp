{
  "nbformat": 4,
  "nbformat_minor": 0,
  "metadata": {
    "colab": {
      "name": "desafiomodulo2.ipynb",
      "provenance": [],
      "authorship_tag": "ABX9TyNBMip27HVqYkkLlYI6Pm71",
      "include_colab_link": true
    },
    "kernelspec": {
      "name": "python3",
      "display_name": "Python 3"
    },
    "language_info": {
      "name": "python"
    }
  },
  "cells": [
    {
      "cell_type": "markdown",
      "metadata": {
        "id": "view-in-github",
        "colab_type": "text"
      },
      "source": [
        "<a href=\"https://colab.research.google.com/github/feryamazaki/igtibootcamp/blob/main/desafiomodulo2.ipynb\" target=\"_parent\"><img src=\"https://colab.research.google.com/assets/colab-badge.svg\" alt=\"Open In Colab\"/></a>"
      ]
    },
    {
      "cell_type": "markdown",
      "metadata": {
        "id": "brKE1oBsWOlj"
      },
      "source": [
        "Desafio do Modulo 2\n"
      ]
    },
    {
      "cell_type": "code",
      "metadata": {
        "id": "cwZL84wDWK0-"
      },
      "source": [
        "#Importando as bibliotecas\n",
        "import numpy as np\n",
        "import pandas as pd"
      ],
      "execution_count": 1,
      "outputs": []
    },
    {
      "cell_type": "code",
      "metadata": {
        "id": "23bdkug9W7dy"
      },
      "source": [
        "#Carregando o dataset\n",
        "df = pd.read_csv(\"https://pycourse.s3.amazonaws.com/bike-sharing.csv\")"
      ],
      "execution_count": 2,
      "outputs": []
    },
    {
      "cell_type": "markdown",
      "metadata": {
        "id": "LG3Zu9sOoUCF"
      },
      "source": [
        "4. Responder as seguintes perguntas:\n",
        "\n",
        "a. Qual o tamanho desse dataset? \n",
        "\n",
        "17379 rows x 17 columns\n",
        "\n",
        "b. Qual a média da coluna windspeed?\n",
        "\n",
        "df.get('windspeed').mean() - 0.1900976063064631\n",
        "\n",
        "c. Qual a média da coluna temp?\n",
        "\n",
        "df.get('temp').mean() - 0.4969871684216586\n",
        "\n",
        "\n",
        "d. Quantos registros existem para o ano de 2011?\n",
        "\n",
        "df.query('year == 0')\n",
        "8645 rows × 17 columns\n",
        "\n",
        "\n",
        "e. Quantos registros existem para o ano de 2012?\n",
        "\n",
        "df.query('year == 1')\n",
        "8734 rows × 17 columns\n",
        "\n",
        "\n",
        "f. Quantas locações de bicicletas foram efetuadas em 2011?\n",
        "\n",
        "df.query('year == 0')['total_count'].sum()\n",
        "1243103\n",
        "\n",
        "\n",
        "g. Quantas locações de bicicletas foram efetuadas em 2012?\n",
        "\n",
        "df.query('year == 1')['total_count'].sum()\n",
        "2049576\n",
        "\n",
        "h. Qual estação do ano contém a maior média de locações de bicicletas?\n",
        "\n",
        "agrupamento = df.groupby(by=['season'])['total_count'].mean()\n",
        "season\n",
        "1    111.114569\n",
        "2    208.344069\n",
        "3    236.016237\n",
        "4    198.868856\n",
        "Season 3 - Verao\n",
        "\n",
        "i. Qual estação do ano contém a menor média de locações de bicicletas?\n",
        "\n",
        "Season 1 - inverno\n",
        "\n",
        "j. Qual horário do dia contém a maior média de locações de bicicletas?\n",
        "\n",
        "agrupamento = df.groupby(by=['hour'])['total_count'].mean()\n",
        "0      53.898072\n",
        "1      33.375691\n",
        "2      22.869930\n",
        "3      11.727403\n",
        "4       6.352941\n",
        "5      19.889819\n",
        "6      76.044138\n",
        "7     212.064649\n",
        "8     359.011004\n",
        "9     219.309491\n",
        "10    173.668501\n",
        "11    208.143054\n",
        "12    253.315934\n",
        "13    253.661180\n",
        "14    240.949246\n",
        "15    251.233196\n",
        "16    311.983562\n",
        "17    461.452055\n",
        "18    425.510989\n",
        "19    311.523352\n",
        "20    226.030220\n",
        "21    172.314560\n",
        "22    131.335165\n",
        "23     87.831044\n",
        "Answer - Hour 17\n",
        "\n",
        "k. Qual horário do dia contém a menor média de locações de bicicletas?\n",
        "\n",
        "Answer - Hour 4\n",
        "\n",
        "l. Que dia da semana contém a maior média de locações de bicicletas?\n",
        "\n",
        "agrupamento = df.groupby(by=['weekday'])['total_count'].mean()\n",
        "\n",
        "weekday\n",
        "0    177.468825\n",
        "1    183.744655\n",
        "2    191.238891\n",
        "3    191.130505\n",
        "4    196.436665\n",
        "5    196.135907\n",
        "6    190.209793\n",
        "\n",
        "Answer 4 quinta\n",
        "\n",
        "m. Que dia da semana contém a menor média de locações de bicicletas?\n",
        "\n",
        "Answer 0\n",
        "\n",
        "n. Às quartas-feiras (weekday = 3), qual o horário do dia contém a maior média\n",
        "de locações de bicicletas?\n",
        "\n",
        "df.query('weekday == 3').groupby(by=['hour'])['total_count'].mean()\n",
        "Answer 17\n",
        "\n",
        "o. Aos sábados (weekday = 6), qual o horário do dia contém a maior média de\n",
        "locações de bicicletas?\n",
        "\n",
        "df.query('weekday == 6').groupby(by=['hour'])['total_count'].mean()\n",
        "Answer 13"
      ]
    },
    {
      "cell_type": "code",
      "metadata": {
        "colab": {
          "base_uri": "https://localhost:8080/",
          "height": 204
        },
        "id": "1TvI139qXCXJ",
        "outputId": "f5c3f3be-8fa8-439b-abcc-a18ed9786361"
      },
      "source": [
        "df.head()"
      ],
      "execution_count": 3,
      "outputs": [
        {
          "output_type": "execute_result",
          "data": {
            "text/html": [
              "<div>\n",
              "<style scoped>\n",
              "    .dataframe tbody tr th:only-of-type {\n",
              "        vertical-align: middle;\n",
              "    }\n",
              "\n",
              "    .dataframe tbody tr th {\n",
              "        vertical-align: top;\n",
              "    }\n",
              "\n",
              "    .dataframe thead th {\n",
              "        text-align: right;\n",
              "    }\n",
              "</style>\n",
              "<table border=\"1\" class=\"dataframe\">\n",
              "  <thead>\n",
              "    <tr style=\"text-align: right;\">\n",
              "      <th></th>\n",
              "      <th>datetime</th>\n",
              "      <th>rec_id</th>\n",
              "      <th>season</th>\n",
              "      <th>year</th>\n",
              "      <th>month</th>\n",
              "      <th>hour</th>\n",
              "      <th>is_holiday</th>\n",
              "      <th>weekday</th>\n",
              "      <th>is_workingday</th>\n",
              "      <th>weather_condition</th>\n",
              "      <th>temp</th>\n",
              "      <th>atemp</th>\n",
              "      <th>humidity</th>\n",
              "      <th>windspeed</th>\n",
              "      <th>casual</th>\n",
              "      <th>registered</th>\n",
              "      <th>total_count</th>\n",
              "    </tr>\n",
              "  </thead>\n",
              "  <tbody>\n",
              "    <tr>\n",
              "      <th>0</th>\n",
              "      <td>2011-01-01</td>\n",
              "      <td>1</td>\n",
              "      <td>1</td>\n",
              "      <td>0</td>\n",
              "      <td>1</td>\n",
              "      <td>0</td>\n",
              "      <td>0</td>\n",
              "      <td>6</td>\n",
              "      <td>0</td>\n",
              "      <td>1</td>\n",
              "      <td>0.24</td>\n",
              "      <td>0.2879</td>\n",
              "      <td>0.81</td>\n",
              "      <td>0.0</td>\n",
              "      <td>3</td>\n",
              "      <td>13</td>\n",
              "      <td>16</td>\n",
              "    </tr>\n",
              "    <tr>\n",
              "      <th>1</th>\n",
              "      <td>2011-01-01</td>\n",
              "      <td>2</td>\n",
              "      <td>1</td>\n",
              "      <td>0</td>\n",
              "      <td>1</td>\n",
              "      <td>1</td>\n",
              "      <td>0</td>\n",
              "      <td>6</td>\n",
              "      <td>0</td>\n",
              "      <td>1</td>\n",
              "      <td>0.22</td>\n",
              "      <td>0.2727</td>\n",
              "      <td>0.80</td>\n",
              "      <td>0.0</td>\n",
              "      <td>8</td>\n",
              "      <td>32</td>\n",
              "      <td>40</td>\n",
              "    </tr>\n",
              "    <tr>\n",
              "      <th>2</th>\n",
              "      <td>2011-01-01</td>\n",
              "      <td>3</td>\n",
              "      <td>1</td>\n",
              "      <td>0</td>\n",
              "      <td>1</td>\n",
              "      <td>2</td>\n",
              "      <td>0</td>\n",
              "      <td>6</td>\n",
              "      <td>0</td>\n",
              "      <td>1</td>\n",
              "      <td>0.22</td>\n",
              "      <td>0.2727</td>\n",
              "      <td>0.80</td>\n",
              "      <td>0.0</td>\n",
              "      <td>5</td>\n",
              "      <td>27</td>\n",
              "      <td>32</td>\n",
              "    </tr>\n",
              "    <tr>\n",
              "      <th>3</th>\n",
              "      <td>2011-01-01</td>\n",
              "      <td>4</td>\n",
              "      <td>1</td>\n",
              "      <td>0</td>\n",
              "      <td>1</td>\n",
              "      <td>3</td>\n",
              "      <td>0</td>\n",
              "      <td>6</td>\n",
              "      <td>0</td>\n",
              "      <td>1</td>\n",
              "      <td>0.24</td>\n",
              "      <td>0.2879</td>\n",
              "      <td>0.75</td>\n",
              "      <td>0.0</td>\n",
              "      <td>3</td>\n",
              "      <td>10</td>\n",
              "      <td>13</td>\n",
              "    </tr>\n",
              "    <tr>\n",
              "      <th>4</th>\n",
              "      <td>2011-01-01</td>\n",
              "      <td>5</td>\n",
              "      <td>1</td>\n",
              "      <td>0</td>\n",
              "      <td>1</td>\n",
              "      <td>4</td>\n",
              "      <td>0</td>\n",
              "      <td>6</td>\n",
              "      <td>0</td>\n",
              "      <td>1</td>\n",
              "      <td>0.24</td>\n",
              "      <td>0.2879</td>\n",
              "      <td>0.75</td>\n",
              "      <td>0.0</td>\n",
              "      <td>0</td>\n",
              "      <td>1</td>\n",
              "      <td>1</td>\n",
              "    </tr>\n",
              "  </tbody>\n",
              "</table>\n",
              "</div>"
            ],
            "text/plain": [
              "     datetime  rec_id  season  year  ...  windspeed  casual  registered  total_count\n",
              "0  2011-01-01       1       1     0  ...        0.0       3          13           16\n",
              "1  2011-01-01       2       1     0  ...        0.0       8          32           40\n",
              "2  2011-01-01       3       1     0  ...        0.0       5          27           32\n",
              "3  2011-01-01       4       1     0  ...        0.0       3          10           13\n",
              "4  2011-01-01       5       1     0  ...        0.0       0           1            1\n",
              "\n",
              "[5 rows x 17 columns]"
            ]
          },
          "metadata": {
            "tags": []
          },
          "execution_count": 3
        }
      ]
    },
    {
      "cell_type": "code",
      "metadata": {
        "colab": {
          "base_uri": "https://localhost:8080/"
        },
        "id": "GgWpLn4uXHdQ",
        "outputId": "719df92c-5c03-4737-b62d-f39482615179"
      },
      "source": [
        "df.info"
      ],
      "execution_count": 4,
      "outputs": [
        {
          "output_type": "execute_result",
          "data": {
            "text/plain": [
              "<bound method DataFrame.info of          datetime  rec_id  season  ...  casual  registered  total_count\n",
              "0      2011-01-01       1       1  ...       3          13           16\n",
              "1      2011-01-01       2       1  ...       8          32           40\n",
              "2      2011-01-01       3       1  ...       5          27           32\n",
              "3      2011-01-01       4       1  ...       3          10           13\n",
              "4      2011-01-01       5       1  ...       0           1            1\n",
              "...           ...     ...     ...  ...     ...         ...          ...\n",
              "17374  2012-12-31   17375       1  ...      11         108          119\n",
              "17375  2012-12-31   17376       1  ...       8          81           89\n",
              "17376  2012-12-31   17377       1  ...       7          83           90\n",
              "17377  2012-12-31   17378       1  ...      13          48           61\n",
              "17378  2012-12-31   17379       1  ...      12          37           49\n",
              "\n",
              "[17379 rows x 17 columns]>"
            ]
          },
          "metadata": {
            "tags": []
          },
          "execution_count": 4
        }
      ]
    },
    {
      "cell_type": "code",
      "metadata": {
        "id": "pHR9xvzGXTNR"
      },
      "source": [
        "agrupamento = df.groupby(by=['weekday'])['total_count'].mean()"
      ],
      "execution_count": 32,
      "outputs": []
    },
    {
      "cell_type": "code",
      "metadata": {
        "colab": {
          "base_uri": "https://localhost:8080/"
        },
        "id": "3KGj7R4VtstT",
        "outputId": "5e49888d-c9ff-4dd6-d2c0-12d404cf90a2"
      },
      "source": [
        "agrupamento"
      ],
      "execution_count": 33,
      "outputs": [
        {
          "output_type": "execute_result",
          "data": {
            "text/plain": [
              "weekday\n",
              "0    177.468825\n",
              "1    183.744655\n",
              "2    191.238891\n",
              "3    191.130505\n",
              "4    196.436665\n",
              "5    196.135907\n",
              "6    190.209793\n",
              "Name: total_count, dtype: float64"
            ]
          },
          "metadata": {
            "tags": []
          },
          "execution_count": 33
        }
      ]
    },
    {
      "cell_type": "code",
      "metadata": {
        "colab": {
          "base_uri": "https://localhost:8080/"
        },
        "id": "yTO8TpYIv8iB",
        "outputId": "7d1b93f2-0d02-4e39-b7e4-d59b2ea68342"
      },
      "source": [
        "df.query('weekday == 6').groupby(by=['hour'])['total_count'].mean()"
      ],
      "execution_count": 36,
      "outputs": [
        {
          "output_type": "execute_result",
          "data": {
            "text/plain": [
              "hour\n",
              "0      94.304762\n",
              "1      67.780952\n",
              "2      50.495238\n",
              "3      22.885714\n",
              "4       7.657143\n",
              "5       8.291262\n",
              "6      21.000000\n",
              "7      45.961905\n",
              "8     114.476190\n",
              "9     186.790476\n",
              "10    263.723810\n",
              "11    328.609524\n",
              "12    375.380952\n",
              "13    385.371429\n",
              "14    381.333333\n",
              "15    382.428571\n",
              "16    366.142857\n",
              "17    334.409524\n",
              "18    292.048077\n",
              "19    239.932692\n",
              "20    180.865385\n",
              "21    156.000000\n",
              "22    139.663462\n",
              "23    115.855769\n",
              "Name: total_count, dtype: float64"
            ]
          },
          "metadata": {
            "tags": []
          },
          "execution_count": 36
        }
      ]
    }
  ]
}