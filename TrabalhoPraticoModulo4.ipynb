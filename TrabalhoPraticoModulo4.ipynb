{
  "nbformat": 4,
  "nbformat_minor": 0,
  "metadata": {
    "colab": {
      "name": "TrabalhoPraticoModulo4.ipynb",
      "provenance": [],
      "authorship_tag": "ABX9TyPuB+wlFaclqwmsqJkVHtLt",
      "include_colab_link": true
    },
    "kernelspec": {
      "name": "python3",
      "display_name": "Python 3"
    },
    "language_info": {
      "name": "python"
    }
  },
  "cells": [
    {
      "cell_type": "markdown",
      "metadata": {
        "id": "view-in-github",
        "colab_type": "text"
      },
      "source": [
        "<a href=\"https://colab.research.google.com/github/feryamazaki/igtibootcamp/blob/main/TrabalhoPraticoModulo4.ipynb\" target=\"_parent\"><img src=\"https://colab.research.google.com/assets/colab-badge.svg\" alt=\"Open In Colab\"/></a>"
      ]
    },
    {
      "cell_type": "code",
      "metadata": {
        "id": "U-fCrAIa7MOI"
      },
      "source": [
        "import threading\n",
        "import time\n",
        "from random import randint\n",
        "\n",
        "def funcao1(num):\n",
        "  n = num\n",
        "  while n > 0:\n",
        "    n -= 1\n",
        "    print('n_1: {}'.format(n))\n",
        "    time.sleep(randint(0,2))\n",
        "\n",
        "def funcao2(num):\n",
        "  n=num\n",
        "  while n < 100:\n",
        "    n += 1\n",
        "    print('n_2: {}'.format(n))\n",
        "    time.sleep(randint(0,2))\n",
        "\n",
        "if __name__ == '__main__':\n",
        "  t1 = threading.Thread(target=funcao1, args=(100,))\n",
        "  t2 = threading.Thread(target=funcao2, args=(0,))\n",
        "\n",
        "  t1.start()\n",
        "  t2.start()\n",
        "\n",
        "  t1.join()\n",
        "  t2.join()\n",
        "\n",
        "  print('Fim')"
      ],
      "execution_count": null,
      "outputs": []
    }
  ]
}